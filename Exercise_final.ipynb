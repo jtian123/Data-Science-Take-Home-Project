{
 "cells": [
  {
   "cell_type": "code",
   "execution_count": 31,
   "metadata": {},
   "outputs": [
    {
     "data": {
      "text/html": [
       "<style>.container { width:98% !important; }</style>"
      ],
      "text/plain": [
       "<IPython.core.display.HTML object>"
      ]
     },
     "metadata": {},
     "output_type": "display_data"
    }
   ],
   "source": [
    "from IPython.display import display, HTML, Markdown\n",
    "display(HTML(\"<style>.container { width:98% !important; }</style>\"))\n",
    "\n",
    "import pandas as pd\n",
    "pd.set_option(\"display.max_columns\",999)\n",
    "pd.options.display.max_rows = 9999\n",
    "pd.set_option('display.float_format', lambda x: '%.3f' % x)"
   ]
  },
  {
   "cell_type": "code",
   "execution_count": 167,
   "metadata": {},
   "outputs": [],
   "source": [
    "import numpy as np"
   ]
  },
  {
   "cell_type": "code",
   "execution_count": 174,
   "metadata": {},
   "outputs": [
    {
     "data": {
      "text/html": [
       "<div>\n",
       "<style scoped>\n",
       "    .dataframe tbody tr th:only-of-type {\n",
       "        vertical-align: middle;\n",
       "    }\n",
       "\n",
       "    .dataframe tbody tr th {\n",
       "        vertical-align: top;\n",
       "    }\n",
       "\n",
       "    .dataframe thead th {\n",
       "        text-align: right;\n",
       "    }\n",
       "</style>\n",
       "<table border=\"1\" class=\"dataframe\">\n",
       "  <thead>\n",
       "    <tr style=\"text-align: right;\">\n",
       "      <th></th>\n",
       "      <th>LogId</th>\n",
       "      <th>EmailSentDateTimeUtc</th>\n",
       "      <th>EmailCampaignId</th>\n",
       "      <th>EmailOpenedDateTimeUtc</th>\n",
       "      <th>EmailClickedDateTimeUtc</th>\n",
       "      <th>UserId</th>\n",
       "      <th>ZipCode</th>\n",
       "      <th>AddressData</th>\n",
       "    </tr>\n",
       "  </thead>\n",
       "  <tbody>\n",
       "    <tr>\n",
       "      <th>0</th>\n",
       "      <td>208728980120</td>\n",
       "      <td>2019-07-31 15:13:25.817</td>\n",
       "      <td>792229022220</td>\n",
       "      <td>NaN</td>\n",
       "      <td>NaN</td>\n",
       "      <td>851332105693</td>\n",
       "      <td>nan</td>\n",
       "      <td>NaN</td>\n",
       "    </tr>\n",
       "    <tr>\n",
       "      <th>1</th>\n",
       "      <td>292563123584</td>\n",
       "      <td>2019-08-02 02:15:52.447</td>\n",
       "      <td>866429603262</td>\n",
       "      <td>2019-08-02 15:16:01.7533333</td>\n",
       "      <td>NaN</td>\n",
       "      <td>369293054977</td>\n",
       "      <td>nan</td>\n",
       "      <td>NaN</td>\n",
       "    </tr>\n",
       "    <tr>\n",
       "      <th>2</th>\n",
       "      <td>72552047640</td>\n",
       "      <td>2019-08-07 16:21:37.293</td>\n",
       "      <td>383130475294</td>\n",
       "      <td>NaN</td>\n",
       "      <td>NaN</td>\n",
       "      <td>938684493058</td>\n",
       "      <td>nan</td>\n",
       "      <td>NaN</td>\n",
       "    </tr>\n",
       "    <tr>\n",
       "      <th>3</th>\n",
       "      <td>1089121462891</td>\n",
       "      <td>2019-08-07 16:38:03.323</td>\n",
       "      <td>792229022220</td>\n",
       "      <td>NaN</td>\n",
       "      <td>NaN</td>\n",
       "      <td>50233193142</td>\n",
       "      <td>nan</td>\n",
       "      <td>NaN</td>\n",
       "    </tr>\n",
       "    <tr>\n",
       "      <th>4</th>\n",
       "      <td>828770719378</td>\n",
       "      <td>2019-08-12 11:45:43.293</td>\n",
       "      <td>479810600058</td>\n",
       "      <td>NaN</td>\n",
       "      <td>NaN</td>\n",
       "      <td>369293054977</td>\n",
       "      <td>nan</td>\n",
       "      <td>NaN</td>\n",
       "    </tr>\n",
       "  </tbody>\n",
       "</table>\n",
       "</div>"
      ],
      "text/plain": [
       "           LogId     EmailSentDateTimeUtc  EmailCampaignId  \\\n",
       "0   208728980120  2019-07-31 15:13:25.817     792229022220   \n",
       "1   292563123584  2019-08-02 02:15:52.447     866429603262   \n",
       "2    72552047640  2019-08-07 16:21:37.293     383130475294   \n",
       "3  1089121462891  2019-08-07 16:38:03.323     792229022220   \n",
       "4   828770719378  2019-08-12 11:45:43.293     479810600058   \n",
       "\n",
       "        EmailOpenedDateTimeUtc EmailClickedDateTimeUtc        UserId  ZipCode  \\\n",
       "0                          NaN                     NaN  851332105693      nan   \n",
       "1  2019-08-02 15:16:01.7533333                     NaN  369293054977      nan   \n",
       "2                          NaN                     NaN  938684493058      nan   \n",
       "3                          NaN                     NaN   50233193142      nan   \n",
       "4                          NaN                     NaN  369293054977      nan   \n",
       "\n",
       "  AddressData  \n",
       "0         NaN  \n",
       "1         NaN  \n",
       "2         NaN  \n",
       "3         NaN  \n",
       "4         NaN  "
      ]
     },
     "metadata": {},
     "output_type": "display_data"
    },
    {
     "data": {
      "text/html": [
       "<div>\n",
       "<style scoped>\n",
       "    .dataframe tbody tr th:only-of-type {\n",
       "        vertical-align: middle;\n",
       "    }\n",
       "\n",
       "    .dataframe tbody tr th {\n",
       "        vertical-align: top;\n",
       "    }\n",
       "\n",
       "    .dataframe thead th {\n",
       "        text-align: right;\n",
       "    }\n",
       "</style>\n",
       "<table border=\"1\" class=\"dataframe\">\n",
       "  <thead>\n",
       "    <tr style=\"text-align: right;\">\n",
       "      <th></th>\n",
       "      <th>UserId</th>\n",
       "      <th>DateOfActivityPST</th>\n",
       "      <th>ActivityCount</th>\n",
       "    </tr>\n",
       "  </thead>\n",
       "  <tbody>\n",
       "    <tr>\n",
       "      <th>0</th>\n",
       "      <td>241710509395</td>\n",
       "      <td>2019-09-24</td>\n",
       "      <td>29</td>\n",
       "    </tr>\n",
       "    <tr>\n",
       "      <th>1</th>\n",
       "      <td>241710509395</td>\n",
       "      <td>2020-09-11</td>\n",
       "      <td>60</td>\n",
       "    </tr>\n",
       "    <tr>\n",
       "      <th>2</th>\n",
       "      <td>435228414681</td>\n",
       "      <td>2018-01-06</td>\n",
       "      <td>12</td>\n",
       "    </tr>\n",
       "    <tr>\n",
       "      <th>3</th>\n",
       "      <td>435228414681</td>\n",
       "      <td>2018-04-20</td>\n",
       "      <td>20</td>\n",
       "    </tr>\n",
       "    <tr>\n",
       "      <th>4</th>\n",
       "      <td>435228414681</td>\n",
       "      <td>2018-05-10</td>\n",
       "      <td>136</td>\n",
       "    </tr>\n",
       "  </tbody>\n",
       "</table>\n",
       "</div>"
      ],
      "text/plain": [
       "         UserId DateOfActivityPST  ActivityCount\n",
       "0  241710509395        2019-09-24             29\n",
       "1  241710509395        2020-09-11             60\n",
       "2  435228414681        2018-01-06             12\n",
       "3  435228414681        2018-04-20             20\n",
       "4  435228414681        2018-05-10            136"
      ]
     },
     "metadata": {},
     "output_type": "display_data"
    }
   ],
   "source": [
    "df_emails = pd.read_csv('/Users/jinyaotian/Desktop/Data-Science-Take-Home-Project-main/data/email_data.csv',delimiter=',')\n",
    "display(df_emails.head())\n",
    "\n",
    "df_activity = pd.read_csv('/Users/jinyaotian/Desktop/Data-Science-Take-Home-Project-main/data/activity_data.csv',delimiter=',')\n",
    "display(df_activity.head())"
   ]
  },
  {
   "cell_type": "markdown",
   "metadata": {},
   "source": [
    "### Question 1. How many rows are in the two datasets? If the log of emails represents 3% of the emails we sent over this period, how many emails did we send? "
   ]
  },
  {
   "cell_type": "code",
   "execution_count": 175,
   "metadata": {},
   "outputs": [
    {
     "name": "stdout",
     "output_type": "stream",
     "text": [
      "Answer: there are 474163 rows in df_emails dataset and 4559973 rows in df_activity dataset.\n"
     ]
    }
   ],
   "source": [
    "print(\"Answer: there are %d rows in df_emails dataset and %d rows in df_activity dataset.\"%(df_emails.shape[0],df_activity.shape[0]))"
   ]
  },
  {
   "cell_type": "code",
   "execution_count": 176,
   "metadata": {},
   "outputs": [
    {
     "name": "stdout",
     "output_type": "stream",
     "text": [
      "Total number of emails have been sent over this period is 15805433.\n"
     ]
    }
   ],
   "source": [
    "print('Total number of emails have been sent over this period is %d.'%(df_emails.shape[0]/0.03))"
   ]
  },
  {
   "cell_type": "markdown",
   "metadata": {},
   "source": [
    "### Question 2: What are the earliest and most recent dates of emails sent in this dataset in California time (Pacific Standard Time Zone)? (use python to print the date in format mm/dd/yyy hour:minute in 24 hour time)"
   ]
  },
  {
   "cell_type": "code",
   "execution_count": 22,
   "metadata": {},
   "outputs": [],
   "source": [
    "from datetime import datetime"
   ]
  },
  {
   "cell_type": "code",
   "execution_count": 35,
   "metadata": {},
   "outputs": [
    {
     "data": {
      "text/plain": [
       "Index(['LogId', 'EmailSentDateTimeUtc', 'EmailCampaignId',\n",
       "       'EmailOpenedDateTimeUtc', 'EmailClickedDateTimeUtc', 'UserId',\n",
       "       'ZipCode', 'AddressData'],\n",
       "      dtype='object')"
      ]
     },
     "execution_count": 35,
     "metadata": {},
     "output_type": "execute_result"
    }
   ],
   "source": [
    "df_emails.columns"
   ]
  },
  {
   "cell_type": "code",
   "execution_count": 36,
   "metadata": {},
   "outputs": [
    {
     "data": {
      "text/plain": [
       "LogId                        int64\n",
       "EmailSentDateTimeUtc        object\n",
       "EmailCampaignId              int64\n",
       "EmailOpenedDateTimeUtc      object\n",
       "EmailClickedDateTimeUtc     object\n",
       "UserId                       int64\n",
       "ZipCode                    float64\n",
       "AddressData                 object\n",
       "dtype: object"
      ]
     },
     "execution_count": 36,
     "metadata": {},
     "output_type": "execute_result"
    }
   ],
   "source": [
    "df_emails.dtypes"
   ]
  },
  {
   "cell_type": "code",
   "execution_count": 182,
   "metadata": {},
   "outputs": [],
   "source": [
    "#Convert time zone from Universal time into US Pacific time\n",
    "df_emails['EmailSentDateTimeUtc'] = pd.DatetimeIndex(df_emails['EmailSentDateTimeUtc'],tz = 'utc').tz_convert('US/Pacific')"
   ]
  },
  {
   "cell_type": "code",
   "execution_count": 183,
   "metadata": {},
   "outputs": [
    {
     "name": "stdout",
     "output_type": "stream",
     "text": [
      "The earliest date of emails sent in this dataset in California time (Pacific Standard Time Zone) is 1/3/2018 20:29\n"
     ]
    }
   ],
   "source": [
    "# Note that the date and time are in coordinated universal time. \n",
    "# Coordinated Universal Time is 7 hours ahead of Pacific Standard Time\n",
    "t_1 = df_emails['EmailSentDateTimeUtc'].min()\n",
    "print('The earliest date of emails sent in this dataset in California time (Pacific Standard Time Zone) is %d/%d/%d %d:%d' %(t_1.month,t_1.day,t_1.year,t_1.hour,t_1.minute))"
   ]
  },
  {
   "cell_type": "code",
   "execution_count": 184,
   "metadata": {},
   "outputs": [
    {
     "name": "stdout",
     "output_type": "stream",
     "text": [
      "The most recent date of emails sent in this dataset in California time (Pacific Standard Time Zone) is 4/19/2021 6:45\n"
     ]
    }
   ],
   "source": [
    "t_2 = df_emails['EmailSentDateTimeUtc'].max()\n",
    "print('The most recent date of emails sent in this dataset in California time (Pacific Standard Time Zone) is %d/%d/%d %d:%d' %(t_2.month,t_2.day,t_2.year,t_2.hour,t_2.minute))"
   ]
  },
  {
   "cell_type": "markdown",
   "metadata": {},
   "source": [
    "### Question 3: Which 10 zip codes receive the most emails and how many emails do they receive?"
   ]
  },
  {
   "cell_type": "code",
   "execution_count": 185,
   "metadata": {},
   "outputs": [],
   "source": [
    "df_group1 = df_emails.groupby(['ZipCode']).count()['UserId'].sort_values(ascending = False)"
   ]
  },
  {
   "cell_type": "code",
   "execution_count": 186,
   "metadata": {},
   "outputs": [],
   "source": [
    "index = df_group1.index[:10]"
   ]
  },
  {
   "cell_type": "code",
   "execution_count": 187,
   "metadata": {},
   "outputs": [
    {
     "data": {
      "text/plain": [
       "ZipCode\n",
       "63301.000    312\n",
       "33801.000    310\n",
       "34210.000    299\n",
       "38301.000    295\n",
       "67460.000    285\n",
       "95971.000    277\n",
       "42301.000    266\n",
       "36104.000    254\n",
       "40769.000    234\n",
       "85225.000    229\n",
       "Name: UserId, dtype: int64"
      ]
     },
     "execution_count": 187,
     "metadata": {},
     "output_type": "execute_result"
    }
   ],
   "source": [
    "# Top 10 zip codes for the most emails received\n",
    "df_group1.loc[index]"
   ]
  },
  {
   "cell_type": "markdown",
   "metadata": {},
   "source": [
    "### Question 4: Plot two lines on a single graph. \n",
    "#### 1) total distinct users who were sent at least 1 email by month and year.\n",
    "#### 2) the monthly percentage of users who were sent an email and were active the same day"
   ]
  },
  {
   "cell_type": "code",
   "execution_count": 188,
   "metadata": {},
   "outputs": [],
   "source": [
    "# create a new column with month of date field 'EmailSentDateTimeUtc'\n",
    "df_emails['month'] = pd.DatetimeIndex(df_emails['EmailSentDateTimeUtc']).month\n",
    "\n",
    "# create a new column with Year of date field 'EmailSentDateTimeUtc'\n",
    "df_emails['year'] = pd.DatetimeIndex(df_emails['EmailSentDateTimeUtc']).year\n"
   ]
  },
  {
   "cell_type": "code",
   "execution_count": 225,
   "metadata": {},
   "outputs": [],
   "source": [
    "#Count the total distinct users who were sent at least 1 email by month and year.\n",
    "grouped = df_emails.groupby(['year','month']).agg({'UserId':['nunique']})"
   ]
  },
  {
   "cell_type": "code",
   "execution_count": 228,
   "metadata": {},
   "outputs": [],
   "source": [
    "# 1) \n",
    "# list_1 to store total distint users who were sent at least 1 by month and by year\n",
    "list_1 = []\n",
    "year = [2018,2019,2020,2021]\n",
    "for y in year:\n",
    "    if y != 2021: \n",
    "        for i in range(1,13):\n",
    "            list_1.append(grouped.loc[(y,i)][0])\n",
    "    else: \n",
    "        for i in range(1,5):\n",
    "            list_1.append(grouped.loc[(y,i)][0])"
   ]
  },
  {
   "cell_type": "code",
   "execution_count": 205,
   "metadata": {},
   "outputs": [],
   "source": [
    "# 2)\n",
    "#Convert timestamp back to string, in the form 'xxxx/xx/xx'.\n",
    "df_emails['EmailSentDateTimeUtc'] = df_emails['EmailSentDateTimeUtc'].dt.strftime('%Y-%m-%d')"
   ]
  },
  {
   "cell_type": "code",
   "execution_count": 206,
   "metadata": {},
   "outputs": [],
   "source": [
    "# left join two data frame\n",
    "df_merge = df_emails.merge(df_activity[['UserId','DateOfActivityPST']],on = 'UserId', how = 'left')"
   ]
  },
  {
   "cell_type": "code",
   "execution_count": 208,
   "metadata": {},
   "outputs": [],
   "source": [
    "df_merge['Same day'] = np.zeros(len(df_merge))\n",
    "for i in range(len(df_merge)):\n",
    "    if df_merge.loc[i,'EmailSentDateTimeUtc'] == df_merge.loc[i,'DateOfActivityPST']:\n",
    "        df_merge.loc[i,'Same day'] = 1\n",
    "    else:\n",
    "        continue"
   ]
  },
  {
   "cell_type": "code",
   "execution_count": 229,
   "metadata": {},
   "outputs": [],
   "source": [
    "#Extract those rows where users who were sent an email and were active the same day\n",
    "df_sameday = df_merge.loc[df_merge['Same day'] == 1]\n",
    "\n",
    "grouped_2 = df_sameday.groupby(['year','month']).agg({'UserId':['nunique']})\n",
    "list_2 = []\n",
    "year = [2018,2019,2020,2021]\n",
    "for y in year:\n",
    "    if y != 2021: \n",
    "        for i in range(1,13):\n",
    "            list_2.append(grouped_2.loc[(y,i)][0])\n",
    "    else: \n",
    "        for i in range(1,5):\n",
    "            list_2.append(grouped_2.loc[(y,i)][0])"
   ]
  },
  {
   "cell_type": "code",
   "execution_count": 234,
   "metadata": {},
   "outputs": [],
   "source": [
    "#list_perc : the monthly percentage of users who were sent an email and were active the same day \n",
    "list_perc = []\n",
    "for i in range(len(list_1)):\n",
    "    list_perc.append(100*list_2[i]/list_1[i])"
   ]
  },
  {
   "cell_type": "code",
   "execution_count": 236,
   "metadata": {},
   "outputs": [],
   "source": [
    "import matplotlib.pyplot as plt"
   ]
  },
  {
   "cell_type": "code",
   "execution_count": 238,
   "metadata": {},
   "outputs": [
    {
     "data": {
      "image/png": "[encoded data removed]",
      "text/plain": [
       "<Figure size 432x288 with 1 Axes>"
      ]
     },
     "metadata": {
      "needs_background": "light"
     },
     "output_type": "display_data"
    }
   ],
   "source": [
    "# Plot two lines on a single graph\n",
    "plt.plot(list_1,'r-')\n",
    "plt.plot(list_perc,'b--')\n",
    "plt.show()"
   ]
  },
  {
   "cell_type": "markdown",
   "metadata": {},
   "source": [
    "It seems that it is meaningless to draw the two lines on a single praph, because their values differ too large."
   ]
  }
 ],
 "metadata": {
  "kernelspec": {
   "display_name": "Python 3",
   "language": "python",
   "name": "python3"
  },
  "language_info": {
   "codemirror_mode": {
    "name": "ipython",
    "version": 3
   },
   "file_extension": ".py",
   "mimetype": "text/x-python",
   "name": "python",
   "nbconvert_exporter": "python",
   "pygments_lexer": "ipython3",
   "version": "3.8.5"
  }
 },
 "nbformat": 4,
 "nbformat_minor": 4
}
